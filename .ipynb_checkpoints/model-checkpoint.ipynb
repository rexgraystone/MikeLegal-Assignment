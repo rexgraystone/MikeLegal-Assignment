{
 "cells": [
  {
   "cell_type": "markdown",
   "id": "3d00e5dc-0a44-4298-9168-0fd8bf2c3bf3",
   "metadata": {},
   "source": [
    "# Task - Generate Missing Clauses from Legal Contracts"
   ]
  },
  {
   "cell_type": "markdown",
   "id": "2548e170-dfaa-403d-8612-6ac031a3a403",
   "metadata": {},
   "source": [
    "Import the necessary libraries"
   ]
  },
  {
   "cell_type": "code",
   "execution_count": null,
   "id": "6a66899e-a664-42ea-a6c7-af854cfafd21",
   "metadata": {},
   "outputs": [],
   "source": [
    "import os\n",
    "import numpy as np\n",
    "import pandas as pd\n",
    "from docx import Document\n",
    "import win32com.client as win32\n",
    "import PyPDF2\n",
    "import re\n",
    "from nltk.corpus import stopwords\n",
    "from nltk.tokenize import sent_tokenize\n",
    "from nltk.stem.porter import PorterStemmer\n",
    "from gensim.models import Doc2Vec\n",
    "from torch import nn\n",
    "from transformers import LongformerModel\n",
    "from tensorflow.keras.preprocessing.text import Tokenizer\n",
    "from gensim.models.doc2vec import TaggedDocument"
   ]
  },
  {
   "cell_type": "code",
   "execution_count": null,
   "id": "a2a0b26a-e66f-420d-ab43-a85a6078ec8b",
   "metadata": {},
   "outputs": [],
   "source": [
    "input_path = 'SampleDocs'\n",
    "output_path = 'PDFs'"
   ]
  },
  {
   "cell_type": "code",
   "execution_count": null,
   "id": "07bed8e6-c006-47d1-939b-7d795ac185a4",
   "metadata": {},
   "outputs": [],
   "source": [
    "def save_to_pdf(docx_path, pdf_path):\n",
    "    doc = Document(docx_path)\n",
    "    temp_doc_path = \"temp.doc\"\n",
    "    doc.save(temp_doc_path)\n",
    "    word = win32.Dispatch(\"Word.Application\")\n",
    "    try:\n",
    "        word.Visible = False\n",
    "        doc = word.Documents.Open(os.path.abspath(temp_doc_path))\n",
    "        doc.SaveAs(os.path.abspath(pdf_path), FileFormat=17)  # FileFormat 17 represents PDF\n",
    "    finally:\n",
    "        doc.Close()\n",
    "        word.Quit()\n",
    "    os.remove(temp_doc_path)"
   ]
  },
  {
   "cell_type": "code",
   "execution_count": null,
   "id": "aa58df7e-3c2d-4ed2-b4c0-ef3433409bbd",
   "metadata": {},
   "outputs": [],
   "source": [
    "def read_text_from_pdf(pdf_path):\n",
    "    with open(pdf_path, 'rb') as file:\n",
    "        pdf_reader = PyPDF2.PdfReader(file)\n",
    "        extracted_text = \"\"\n",
    "        for page_num in range(len(pdf_reader.pages)):\n",
    "            page = pdf_reader.pages[page_num]\n",
    "            extracted_text += page.extract_text()\n",
    "    return extracted_text"
   ]
  },
  {
   "cell_type": "code",
   "execution_count": null,
   "id": "50a13bae-685e-4f31-b73d-57a54eb776c2",
   "metadata": {},
   "outputs": [],
   "source": [
    "for index, file in enumerate(os.listdir(input_path)):\n",
    "    if file.endswith('.docx'):\n",
    "        final = file[:-5]\n",
    "        final = f'{final}.pdf'\n",
    "        save_to_pdf(docx_path=f'{input_path}/{file}', pdf_path=f'{output_path}/{final}')"
   ]
  },
  {
   "cell_type": "code",
   "execution_count": null,
   "id": "59530ba3-0a83-4498-876e-4e0b570b68d3",
   "metadata": {},
   "outputs": [],
   "source": [
    "df = pd.DataFrame(columns=['Heading', 'Content'])"
   ]
  },
  {
   "cell_type": "code",
   "execution_count": null,
   "id": "afc15a2c-34bc-4225-87c5-cc3d9058f752",
   "metadata": {},
   "outputs": [],
   "source": [
    "headings = [\n",
    "    'Employment Agreement', \n",
    "    'Investment Commitment Agreement', \n",
    "    'Consulting Agreement', \n",
    "    'Contract for the sale of goods', \n",
    "    'Joint Venture Agreement',\n",
    "    \"Shareholder's Agreement\",\n",
    "    \"Shareholder's Agreement\",\n",
    "    'Founders Agreement', \n",
    "    'Limited Liability Operating Agreement',\n",
    "    'Offer Letter Agreement',\n",
    "    'Collaboration Agreement',\n",
    "    'Rental Agreement',\n",
    "    'Sale Agreement',\n",
    "    'Agreement'\n",
    "]"
   ]
  },
  {
   "cell_type": "code",
   "execution_count": null,
   "id": "b72b3db7-9a9e-4f65-80ca-22c06914833f",
   "metadata": {},
   "outputs": [],
   "source": [
    "for index, file in enumerate(os.listdir(output_path)):\n",
    "    if file.endswith('.pdf'):\n",
    "        row = []\n",
    "        content = read_text_from_pdf(f'{output_path}/{file}')\n",
    "        row = [headings[index], content]\n",
    "        df.loc[index] = row"
   ]
  },
  {
   "cell_type": "code",
   "execution_count": null,
   "id": "9875cb38-3816-4e5f-bc84-e1a6796ab883",
   "metadata": {},
   "outputs": [],
   "source": [
    "df.to_csv('dataset.csv')"
   ]
  },
  {
   "cell_type": "code",
   "execution_count": null,
   "id": "8aeb7c48-602c-4155-baa6-9b7b990cfe37",
   "metadata": {},
   "outputs": [],
   "source": [
    "X = df['Content']"
   ]
  },
  {
   "cell_type": "code",
   "execution_count": null,
   "id": "60a4eb05-46aa-44ec-83ed-f4d0fca669f4",
   "metadata": {},
   "outputs": [],
   "source": [
    "clause_delimiters = [\n",
    "    r'\\(\\d+\\)',     \n",
    "    r'\\d+\\.\\d+\\.\\d+' \n",
    "]"
   ]
  },
  {
   "cell_type": "code",
   "execution_count": null,
   "id": "5a87fe10-3f89-4dfa-9bd1-bea714bf360d",
   "metadata": {},
   "outputs": [],
   "source": [
    "def get_clauses(documents):\n",
    "    clauses = []\n",
    "    current_clause = ''\n",
    "    for row in documents:\n",
    "        for line in row.split('\\n'):\n",
    "            line = line.strip()\n",
    "            if any(re.match(delimiter, line) for delimiter in clause_delimiters):\n",
    "                if current_clause:\n",
    "                    clauses.append(current_clause.strip())\n",
    "                    current_clause = ''\n",
    "            current_clause += line + ' '\n",
    "        if current_clause:\n",
    "            clauses.append(current_clause.strip())\n",
    "    return clauses"
   ]
  },
  {
   "cell_type": "code",
   "execution_count": null,
   "id": "0e02bd24-9643-4436-aebd-5cf8838e2cb8",
   "metadata": {},
   "outputs": [],
   "source": [
    "num_words = 0\n",
    "for row in X:\n",
    "    if len(row) > num_words:\n",
    "        num_words = len(row)"
   ]
  },
  {
   "cell_type": "code",
   "execution_count": null,
   "id": "f76564ca-3af3-4f1e-a7e9-1df863515593",
   "metadata": {},
   "outputs": [],
   "source": [
    "for index, row in enumerate(X):\n",
    "    row = sent_tokenize(row)\n",
    "    X.loc[index] = row"
   ]
  },
  {
   "cell_type": "code",
   "execution_count": null,
   "id": "a4d40f2f-7618-4b7a-ac8c-171764ade7cc",
   "metadata": {},
   "outputs": [],
   "source": [
    "tagged = {}\n",
    "for index, doc in enumerate(X):\n",
    "    key = f\"DOC_{index+1}\"\n",
    "    tagged[key] = TaggedDocument(words=doc, tags=[f\"DOC_{index+1}\"])"
   ]
  },
  {
   "cell_type": "code",
   "execution_count": null,
   "id": "f3d8a5b1-4108-4c1d-b459-906e084f3d7f",
   "metadata": {},
   "outputs": [],
   "source": [
    "docs = []\n",
    "for key in tagged:\n",
    "    docs.append(tagged[key])"
   ]
  },
  {
   "cell_type": "code",
   "execution_count": null,
   "id": "ef76fecd-a9cc-490e-8c74-770058587c97",
   "metadata": {},
   "outputs": [],
   "source": [
    "dim = 200\n",
    "doc2vec = Doc2Vec(documents=docs, vector_size=dim, window=10, min_count=1)"
   ]
  },
  {
   "cell_type": "code",
   "execution_count": null,
   "id": "4917b5d8-453e-4a14-8f4b-66691de0b8a9",
   "metadata": {},
   "outputs": [],
   "source": [
    "embeddings = doc2vec.dv\n",
    "embeddings.save('embeddings')"
   ]
  },
  {
   "cell_type": "code",
   "execution_count": null,
   "id": "f883120f-5428-4f88-8614-ceb9efb18510",
   "metadata": {},
   "outputs": [],
   "source": [
    "model_name = \"gpt2\"\n",
    "model = GPT2LMHeadModel.from_pretrained(model_name)\n",
    "tokenizer_ = GPT2Tokenizer.from_pretrained(model_name)\n",
    "emb = embeddings.vectors\n",
    "embedding_layer = nn.Embedding.from_pretrained(torch.FloatTensor(emb), freeze=True)\n",
    "model.embeddings = embedding_layer"
   ]
  }
 ],
 "metadata": {
  "kernelspec": {
   "display_name": "Python 3 (ipykernel)",
   "language": "python",
   "name": "python3"
  },
  "language_info": {
   "codemirror_mode": {
    "name": "ipython",
    "version": 3
   },
   "file_extension": ".py",
   "mimetype": "text/x-python",
   "name": "python",
   "nbconvert_exporter": "python",
   "pygments_lexer": "ipython3",
   "version": "3.10.9"
  }
 },
 "nbformat": 4,
 "nbformat_minor": 5
}
